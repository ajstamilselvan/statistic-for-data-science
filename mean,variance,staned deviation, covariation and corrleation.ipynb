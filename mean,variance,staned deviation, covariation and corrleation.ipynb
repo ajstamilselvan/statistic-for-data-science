{
 "cells": [
  {
   "cell_type": "code",
   "execution_count": 4,
   "id": "0a48fe53",
   "metadata": {},
   "outputs": [],
   "source": [
    "# mean of the samples\n",
    "import numpy as np\n",
    "import math\n",
    "x = np.array([1,3,5,6,10])\n",
    "mean_x = np.mean(x)\n",
    "# in case the data contains Nan values\n",
    "x_nan = np.array([1,3,5,6, 10,math.nan])\n",
    "mean_x_nan = np.nanmean(x_nan)"
   ]
  },
  {
   "cell_type": "code",
   "execution_count": 2,
   "id": "78eded6c",
   "metadata": {},
   "outputs": [
    {
     "data": {
      "text/plain": [
       "5.0"
      ]
     },
     "execution_count": 2,
     "metadata": {},
     "output_type": "execute_result"
    }
   ],
   "source": [
    "mean_x"
   ]
  },
  {
   "cell_type": "code",
   "execution_count": 5,
   "id": "80b01158",
   "metadata": {},
   "outputs": [
    {
     "data": {
      "text/plain": [
       "5.0"
      ]
     },
     "execution_count": 5,
     "metadata": {},
     "output_type": "execute_result"
    }
   ],
   "source": [
    "mean_x_nan"
   ]
  },
  {
   "cell_type": "code",
   "execution_count": 6,
   "id": "33da5f04",
   "metadata": {},
   "outputs": [],
   "source": [
    "#variance from the sample\n",
    "variance_x = np.var(x)"
   ]
  },
  {
   "cell_type": "code",
   "execution_count": 7,
   "id": "bc023f03",
   "metadata": {},
   "outputs": [
    {
     "data": {
      "text/plain": [
       "9.2"
      ]
     },
     "execution_count": 7,
     "metadata": {},
     "output_type": "execute_result"
    }
   ],
   "source": [
    "variance_x"
   ]
  },
  {
   "cell_type": "code",
   "execution_count": 9,
   "id": "0907a4d5",
   "metadata": {},
   "outputs": [],
   "source": [
    "#standed deviation (used often over variance becuse same unit as data ponints and it's easy to interprdate)\n",
    "standed_deviation_x = np.std(x)"
   ]
  },
  {
   "cell_type": "code",
   "execution_count": 10,
   "id": "6ca6d1ed",
   "metadata": {},
   "outputs": [
    {
     "data": {
      "text/plain": [
       "3.03315017762062"
      ]
     },
     "execution_count": 10,
     "metadata": {},
     "output_type": "execute_result"
    }
   ],
   "source": [
    "standed_deviation_x"
   ]
  },
  {
   "cell_type": "code",
   "execution_count": 12,
   "id": "fad60cd9",
   "metadata": {},
   "outputs": [
    {
     "name": "stdout",
     "output_type": "stream",
     "text": [
      "[[ 4.91666667 -3.75      ]\n",
      " [-3.75        2.91666667]]\n"
     ]
    }
   ],
   "source": [
    "#Co variance; how difference between two variable\n",
    "x = np.array([1,3,5,6])\n",
    "y = np.array([-2,-4,-5,-6])\n",
    "#this will return the covariance matrix of x,y containing x_variance, y_variance on diagonal elements and covariance of x,y\n",
    "cov_xy = np.cov(x,y)\n",
    "print(cov_xy)"
   ]
  },
  {
   "cell_type": "code",
   "execution_count": 13,
   "id": "a0cd07eb",
   "metadata": {},
   "outputs": [
    {
     "name": "stdout",
     "output_type": "stream",
     "text": [
      "[[ 1.         -0.99026741]\n",
      " [-0.99026741  1.        ]]\n"
     ]
    }
   ],
   "source": [
    "#corrlation- relationship between two variable\n",
    "x = np.array([1,3,5,6])\n",
    "y = np.array([-2,-4,-5,-6])\n",
    "corr = np.corrcoef(x,y)\n",
    "print(corr)"
   ]
  },
  {
   "cell_type": "code",
   "execution_count": null,
   "id": "1ca94ebd",
   "metadata": {},
   "outputs": [],
   "source": []
  }
 ],
 "metadata": {
  "kernelspec": {
   "display_name": "Python 3 (ipykernel)",
   "language": "python",
   "name": "python3"
  },
  "language_info": {
   "codemirror_mode": {
    "name": "ipython",
    "version": 3
   },
   "file_extension": ".py",
   "mimetype": "text/x-python",
   "name": "python",
   "nbconvert_exporter": "python",
   "pygments_lexer": "ipython3",
   "version": "3.9.12"
  }
 },
 "nbformat": 4,
 "nbformat_minor": 5
}
